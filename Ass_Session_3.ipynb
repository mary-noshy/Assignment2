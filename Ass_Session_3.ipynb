{
  "nbformat": 4,
  "nbformat_minor": 0,
  "metadata": {
    "colab": {
      "provenance": [],
      "authorship_tag": "ABX9TyOIlqgV/bK+cYNe0sHnnF+q",
      "include_colab_link": true
    },
    "kernelspec": {
      "name": "python3",
      "display_name": "Python 3"
    },
    "language_info": {
      "name": "python"
    }
  },
  "cells": [
    {
      "cell_type": "markdown",
      "metadata": {
        "id": "view-in-github",
        "colab_type": "text"
      },
      "source": [
        "<a href=\"https://colab.research.google.com/github/mary-noshy/Assignment2/blob/main/Ass_Session_3.ipynb\" target=\"_parent\"><img src=\"https://colab.research.google.com/assets/colab-badge.svg\" alt=\"Open In Colab\"/></a>"
      ]
    },
    {
      "cell_type": "code",
      "execution_count": 2,
      "metadata": {
        "id": "Xul6cMDFycu5"
      },
      "outputs": [],
      "source": [
        "import numpy as np\n",
        "import pandas as pd"
      ]
    },
    {
      "cell_type": "code",
      "source": [
        "file_paths = {\n",
        "    'AAPL': '/content/aapl.csv',\n",
        "    'AMZN': '/content/amzn.csv',\n",
        "    'FB': '/content/fb.csv',\n",
        "    'GOOG': '/content/goog.csv',\n",
        "    'NFLX': '/content/nflx.csv'\n",
        "}\n",
        "dfs = []\n",
        "\n",
        "for ticker, file_path in file_paths.items():\n",
        "    df = pd.read_csv(file_path)\n",
        "    df['ticker'] = ticker\n",
        "    dfs.append(df)\n",
        "\n",
        "faang = pd.concat(dfs)\n",
        "\n",
        "faang.to_csv('faang.csv', index=False)\n",
        "\n",
        "faang['date'] = pd.to_datetime(faang['date'])\n",
        "\n",
        "faang['volume'] = faang['volume'].astype(int)\n",
        "\n",
        "faang = faang.sort_values(by=['date', 'ticker'])\n",
        "\n",
        "lowest_volume_rows = faang.nsmallest(7, 'volume')\n",
        "\n",
        "print(lowest_volume_rows)"
      ],
      "metadata": {
        "colab": {
          "base_uri": "https://localhost:8080/"
        },
        "id": "njPlTDmBgFzB",
        "outputId": "b32a41ca-6325-46b4-f0bb-255a379210ce"
      },
      "execution_count": 4,
      "outputs": [
        {
          "output_type": "stream",
          "name": "stdout",
          "text": [
            "          date         high          low         open        close  volume  \\\n",
            "126 2018-07-03  1135.819946  1100.020020  1135.819946  1102.890015  679000   \n",
            "226 2018-11-23  1037.589966  1022.398987  1030.000000  1023.880005  691500   \n",
            "99  2018-05-24  1080.469971  1066.150024  1079.000000  1079.239990  766800   \n",
            "130 2018-07-10  1159.589966  1149.589966  1156.979980  1152.839966  798400   \n",
            "152 2018-08-09  1255.541992  1246.010010  1249.900024  1249.099976  848600   \n",
            "159 2018-08-20  1211.000000  1194.625977  1205.020020  1207.770020  870800   \n",
            "161 2018-08-22  1211.839966  1199.000000  1200.000000  1207.329956  887400   \n",
            "\n",
            "    ticker  \n",
            "126   GOOG  \n",
            "226   GOOG  \n",
            "99    GOOG  \n",
            "130   GOOG  \n",
            "152   GOOG  \n",
            "159   GOOG  \n",
            "161   GOOG  \n"
          ]
        }
      ]
    }
  ]
}