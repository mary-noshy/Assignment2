{
 "cells": [
  {
   "cell_type": "markdown",
   "metadata": {},
   "source": [
    "# Assignment 3"
   ]
  },
  {
   "cell_type": "markdown",
   "metadata": {},
   "source": [
    "### Write a function to count the number 4 in a given list."
   ]
  },
  {
   "cell_type": "code",
   "execution_count": null,
   "metadata": {},
   "outputs": [],
   "source": [
    "lis=[2,3,1,4,5,6,4,1,4]              \n",
    "def count():\n",
    "    y=0              #declare counter (y) with intiail value 0\n",
    "    for i in lis:    #loop on given list\n",
    "        if i == 4:   #\n",
    "            y += 1   #count number 3\n",
    "    return y\n",
    "count()"
   ]
  },
  {
   "cell_type": "markdown",
   "metadata": {},
   "source": [
    "### write a  function to check whether a number is divisible by another number."
   ]
  },
  {
   "cell_type": "code",
   "execution_count": null,
   "metadata": {},
   "outputs": [],
   "source": [
    "num1=int(input(\"Please Enter Numerator\"))\n",
    "num2=int(input(\"Please Enter denominator\"))\n",
    "\n",
    "def check(num1,num2):\n",
    "    if num1%num2==0 or num2%num1==0: #Check if num1 can divid by num2 and the result isn't  fraction number and vice versa \n",
    "        print(\"Number is divisible by another number.\")\n",
    "    else:\n",
    "        print(\"Number isn't divisible by another number.\")\n",
    "        \n",
    "check(num1,num2)"
   ]
  },
  {
   "cell_type": "markdown",
   "metadata": {},
   "source": [
    "### write a function to find the maximum and minimum numbers from a sequence of numbers."
   ]
  },
  {
   "cell_type": "code",
   "execution_count": null,
   "metadata": {},
   "outputs": [],
   "source": [
    "lis=[2,4,5,-1,6,1000,2]\n",
    "def find():\n",
    "    maximum = max(lis)\n",
    "    minimum = min(lis)\n",
    "    return maximum, minimum\n",
    "find()"
   ]
  },
  {
   "cell_type": "markdown",
   "metadata": {},
   "source": [
    "### Write a Python function that takes two lists and returns True if they have at least one common member."
   ]
  },
  {
   "cell_type": "code",
   "execution_count": 9,
   "metadata": {},
   "outputs": [
    {
     "name": "stdout",
     "output_type": "stream",
     "text": [
      "True They Have a Common Member and Number is  1\n",
      "True They Have a Common Member and Number is  3\n",
      "False\n"
     ]
    }
   ],
   "source": [
    "lis1=[1,2,3,66,23]\n",
    "lis2=[8,3,15,1]\n",
    "\n",
    "def common(lis1,lis2):\n",
    "    for i in lis1:      #loop on list 1\n",
    "        for j in lis2:  #loop on list 2\n",
    "            if i == j:\n",
    "                print(\"True They Have a Common Member and Number is \" , i)\n",
    "    else:\n",
    "        print(\"False\")\n",
    "        \n",
    "common(lis1,lis2)"
   ]
  },
  {
   "cell_type": "markdown",
   "metadata": {},
   "source": [
    "### Write a Python function to calculate the factorial of a number (a non-negative integer). The function accepts the number from the user"
   ]
  },
  {
   "cell_type": "code",
   "execution_count": null,
   "metadata": {},
   "outputs": [],
   "source": [
    "num=int(input(\"Please Enter Number\"))\n",
    "\n",
    "def factor(num):\n",
    "    if num==0 or num==1:\n",
    "        return 1\n",
    "    elif num<0:     # not accept Negative\n",
    "        print(\"Please Enter Positive Number\")\n",
    "    else:    \n",
    "        return num*factor(num-1)  #use recursion function\n",
    "    \n",
    "factor(num)"
   ]
  },
  {
   "cell_type": "markdown",
   "metadata": {},
   "source": [
    "### Write a Python function to check whether a number is in a given range.\n",
    "\n",
    "### The range is from 3 to 11\n"
   ]
  },
  {
   "cell_type": "code",
   "execution_count": null,
   "metadata": {},
   "outputs": [],
   "source": [
    "num=int(input(\"Please Enter Number\"))\n",
    "\n",
    "def check_num(num):                \n",
    "    if num in range(3,11):       #check if number in range(3,11)\n",
    "        print(\"This Number In Range \")\n",
    "    else:\n",
    "        print(\"This Number Out Of Range \")\n",
    "        \n",
    "check_num(num)"
   ]
  },
  {
   "cell_type": "markdown",
   "metadata": {},
   "source": [
    "### Write a  program to create the multiplication table (from 1 to 10) of a number."
   ]
  },
  {
   "cell_type": "code",
   "execution_count": null,
   "metadata": {},
   "outputs": [],
   "source": [
    "num=int(input(\"Please Enter Number \"))\n",
    "\n",
    "def mul(num): \n",
    "    for i in range(1,11): # loop on numbers from1 to 10\n",
    "        print(num ,\" * \", i ,\" = \", num*i)\n",
    "        \n",
    "mul(num) "
   ]
  },
  {
   "cell_type": "markdown",
   "metadata": {},
   "source": [
    "#### LESSER OF TWO EVENS: Write a function that returns the lesser of two given numbers *if* both numbers are even, but returns the greater if one or both numbers are odd\n",
    "    lesser_of_two_evens(2,4) --> 2\n",
    "    lesser_of_two_evens(2,5) --> 5"
   ]
  },
  {
   "cell_type": "code",
   "execution_count": null,
   "metadata": {},
   "outputs": [],
   "source": [
    "num1=int(input(\"Please Enter Number 1 \"))\n",
    "num2=int(input(\"Please Enter Number 2 \"))\n",
    "\n",
    "def check(num1,num2):\n",
    "    if num1%2==0 and num1%2==0:    #if 2 numbers is even return the smallest number\n",
    "        return min(num1,num2)\n",
    "    else:\n",
    "        return max(num1,num2)     #else return largest number\n",
    "    \n",
    "check(num1,num2)"
   ]
  },
  {
   "cell_type": "markdown",
   "metadata": {},
   "source": [
    "#### ANIMAL CRACKERS: Write a function takes a two-word string and returns True if both words begin with same letter\n",
    "    animal_crackers('Levelheaded Llama') --> True\n",
    "    animal_crackers('Crazy Kangaroo') --> False"
   ]
  },
  {
   "cell_type": "code",
   "execution_count": null,
   "metadata": {},
   "outputs": [],
   "source": [
    "str=input(\"Please Enter The String \")\n",
    "\n",
    "def Check_String(str):\n",
    "    str1,str2  = str.split()  #split string and stor it in 2 variable\n",
    "    if str1[0] == str2[0]:    #check 2 words if begin with same letter\n",
    "        return True\n",
    "    else: \n",
    "        return False\n",
    "\n",
    "Check_String(str)"
   ]
  },
  {
   "cell_type": "markdown",
   "metadata": {},
   "source": [
    "#### MAKES TWENTY: Given two integers, return True if the sum of the integers is 20 *or* if one of the integers is 20. If not, return False\n",
    "\n",
    "    makes_twenty(20,10) --> True\n",
    "    makes_twenty(12,8) --> True\n",
    "    makes_twenty(2,3) --> False"
   ]
  },
  {
   "cell_type": "code",
   "execution_count": null,
   "metadata": {},
   "outputs": [],
   "source": [
    "num1=int(input(\"Please Enter Number 1 \"))\n",
    "num2=int(input(\"Please Enter Number 2 \"))\n",
    "\n",
    "def check(num1,num2):\n",
    "    if num1==20 or num2==20 or num1+num2 == 20:  #sum of the integers is 20 or if one of the integers is 20\n",
    "        return True\n",
    "    else:\n",
    "        return False\n",
    "    \n",
    "check(num1,num2)"
   ]
  },
  {
   "cell_type": "markdown",
   "metadata": {},
   "source": [
    "#### ALMOST THERE: Given an integer n, return True if n is within 10 of either 100 or 200\n",
    "\n",
    "    almost_there(90) --> True\n",
    "    almost_there(104) --> True\n",
    "    almost_there(150) --> False\n",
    "    almost_there(209) --> True\n",
    "    \n",
    "NOTE: `abs(num)` returns the absolute value of a number"
   ]
  },
  {
   "cell_type": "code",
   "execution_count": null,
   "metadata": {},
   "outputs": [],
   "source": [
    "num = int(input(\"Please Enter Number \"))\n",
    "def integr(num):\n",
    "    if num in range(90,110) and (190,210): #Check if number in range(90,110)and(190,210)\n",
    "        return True\n",
    "    else:\n",
    "        return False\n",
    "integr(num)"
   ]
  },
  {
   "cell_type": "markdown",
   "metadata": {},
   "source": [
    "#### BLACKJACK: Given three integers between 1 and 11, if their sum is less than or equal to 21, return their sum. If their sum exceeds 21 *and* there's an eleven, reduce the total sum by 10. Finally, if the sum  exceeds 21, return 'BUST'\n",
    "    blackjack(5,6,7) --> 18\n",
    "    blackjack(9,9,9) --> 'BUST'\n",
    "    blackjack(9,9,11) --> 19"
   ]
  },
  {
   "cell_type": "code",
   "execution_count": null,
   "metadata": {},
   "outputs": [],
   "source": [
    "num1=int(input(\"Please Enter Number 1 \"))\n",
    "num2=int(input(\"Please Enter Number 2 \"))\n",
    "num3=int(input(\"Please Enter Number 3 \"))\n",
    "\n",
    "def sum(num1 , num2 , num3):\n",
    "    result = num1 + num2 + num3\n",
    "    if result <= 21:    #if summation of numbers <= 21   -->return their summation\n",
    "        return result\n",
    "    elif result > 21 and (num1==11 or num2==11 or num3 ==11):#else if summation exceeds 21 and there's 11 reduce the total sum by 10  \n",
    "        return result - 10\n",
    "    else:\n",
    "        print(\"BUST\")\n",
    "        \n",
    "sum(num1 , num2 , num3)"
   ]
  }
 ],
 "metadata": {
  "kernelspec": {
   "display_name": "Python 3 (ipykernel)",
   "language": "python",
   "name": "python3"
  },
  "language_info": {
   "codemirror_mode": {
    "name": "ipython",
    "version": 3
   },
   "file_extension": ".py",
   "mimetype": "text/x-python",
   "name": "python",
   "nbconvert_exporter": "python",
   "pygments_lexer": "ipython3",
   "version": "3.9.12"
  }
 },
 "nbformat": 4,
 "nbformat_minor": 2
}
